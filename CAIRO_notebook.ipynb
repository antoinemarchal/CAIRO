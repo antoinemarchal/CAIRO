{
  "nbformat": 4,
  "nbformat_minor": 0,
  "metadata": {
    "colab": {
      "provenance": [],
      "collapsed_sections": [
        "oE-PMAQNIPNK"
      ],
      "authorship_tag": "ABX9TyMpysCi3xlUoJjUeEBT13Fe",
      "include_colab_link": true
    },
    "kernelspec": {
      "name": "python3",
      "display_name": "Python 3"
    },
    "language_info": {
      "name": "python"
    }
  },
  "cells": [
    {
      "cell_type": "markdown",
      "metadata": {
        "id": "view-in-github",
        "colab_type": "text"
      },
      "source": [
        "<a href=\"https://colab.research.google.com/github/antoinemarchal/CAIRO/blob/main/CAIRO_notebook.ipynb\" target=\"_parent\"><img src=\"https://colab.research.google.com/assets/colab-badge.svg\" alt=\"Open In Colab\"/></a>"
      ]
    },
    {
      "cell_type": "markdown",
      "source": [
        "# Install cfitsio and CAIRO"
      ],
      "metadata": {
        "id": "WmMd7FxY0cBz"
      }
    },
    {
      "cell_type": "code",
      "execution_count": 1,
      "metadata": {
        "id": "NHt2EccHroKh"
      },
      "outputs": [],
      "source": [
        "import os\n",
        "os.chdir('/content/')"
      ]
    },
    {
      "cell_type": "markdown",
      "source": [
        "## Installing cfitsio if required (already available on Collab)"
      ],
      "metadata": {
        "id": "oE-PMAQNIPNK"
      }
    },
    {
      "cell_type": "code",
      "source": [
        "#!wget http://heasarc.gsfc.nasa.gov/FTP/software/fitsio/c/cfitsio-3.47.tar.gz"
      ],
      "metadata": {
        "id": "rnuh5daRIN2F"
      },
      "execution_count": null,
      "outputs": []
    },
    {
      "cell_type": "code",
      "source": [
        "# %%capture\n",
        "# !gunzip -c cfitsio-3.47.tar.gz | tar xv\n",
        "# %cd cfitsio-3.47/\n",
        "# !./configure --enable-sse2 --enable-reentrant\n",
        "# !make && make install"
      ],
      "metadata": {
        "id": "Z9rodLQpn1jo"
      },
      "execution_count": 2,
      "outputs": []
    },
    {
      "cell_type": "markdown",
      "source": [
        "## Installing CAIRO"
      ],
      "metadata": {
        "id": "ebNZP5ycIY06"
      }
    },
    {
      "cell_type": "code",
      "source": [
        "#Download CAIRO\n",
        "os.chdir('/content/')\n",
        "!git clone https://github.com/antoinemarchal/CAIRO CAIRO\n",
        "\n",
        "#Compile\n",
        "os.chdir('CAIRO/src')\n",
        "!make clean OUT=gCAIRO\n",
        "!make FC=gfortran OUT=gCAIRO"
      ],
      "metadata": {
        "colab": {
          "base_uri": "https://localhost:8080/"
        },
        "id": "s_vnoK7ur2t5",
        "outputId": "b0694bd4-789c-4f70-b8f9-743b12948313"
      },
      "execution_count": 3,
      "outputs": [
        {
          "output_type": "stream",
          "name": "stdout",
          "text": [
            "Cloning into 'CAIRO'...\n",
            "remote: Enumerating objects: 86, done.\u001b[K\n",
            "remote: Counting objects: 100% (86/86), done.\u001b[K\n",
            "remote: Compressing objects: 100% (64/64), done.\u001b[K\n",
            "remote: Total 86 (delta 34), reused 69 (delta 17), pack-reused 0\u001b[K\n",
            "Receiving objects: 100% (86/86), 5.19 MiB | 22.06 MiB/s, done.\n",
            "Resolving deltas: 100% (34/34), done.\n",
            "\\rm -rf *.o gCAIRO *.mod *~\n",
            "gfortran -O2 -I/usr/local/include -ffree-line-length-512  -c blas.f\n",
            "gfortran -O2 -I/usr/local/include -ffree-line-length-512  -c lbfgsb.f\n",
            "gfortran -O2 -I/usr/local/include -ffree-line-length-512  -c linpack.f\n",
            "gfortran -O2 -I/usr/local/include -ffree-line-length-512  -c timer.f\n",
            "gfortran -O2 -I/usr/local/include -ffree-line-length-512  -c mod_constants.f90\n",
            "gfortran -O2 -I/usr/local/include -ffree-line-length-512  -c mod_convert.f90\n",
            "gfortran -O2 -I/usr/local/include -ffree-line-length-512  -c mod_fits.f90\n",
            "gfortran -O2 -I/usr/local/include -ffree-line-length-512  -c mod_inout.f90\n",
            "gfortran -O2 -I/usr/local/include -ffree-line-length-512  -c mod_array.f90\n",
            "gfortran -O2 -I/usr/local/include -ffree-line-length-512  -c mod_model.f90\n",
            "gfortran -O2 -I/usr/local/include -ffree-line-length-512  -c mod_optimize.f90\n",
            "gfortran -O2 -I/usr/local/include -ffree-line-length-512  -c mod_minimize.f90\n",
            "gfortran -O2 -I/usr/local/include -ffree-line-length-512  -c mod_functions.f90\n",
            "gfortran -O2 -I/usr/local/include -ffree-line-length-512  -c mod_start.f90\n",
            "gfortran -O2 -I/usr/local/include -ffree-line-length-512  -c mod_rohsa.f90\n",
            "gfortran -O2 -I/usr/local/include -ffree-line-length-512  -c main.f90\n",
            "gfortran blas.o lbfgsb.o linpack.o timer.o mod_constants.o mod_convert.o mod_fits.o mod_inout.o mod_array.o mod_model.o mod_optimize.o mod_minimize.o mod_functions.o mod_start.o mod_rohsa.o main.o -lm -g -O2 -lcfitsio -o gCAIRO\n"
          ]
        }
      ]
    },
    {
      "cell_type": "code",
      "source": [
        "#Download python tools (note: this is not a wrapper of CAIRO)\n",
        "%%capture\n",
        "os.chdir('/content/CAIRO/')\n",
        "!git clone https://github.com/antoinemarchal/CAIROpy CAIROpy\n",
        "os.chdir('/content/CAIRO/CAIROpy')\n",
        "!pip install .\n",
        "os.chdir('/content/')"
      ],
      "metadata": {
        "id": "WU7vatvZCD19"
      },
      "execution_count": 15,
      "outputs": []
    },
    {
      "cell_type": "markdown",
      "source": [
        "# Run CAIRO on test cube"
      ],
      "metadata": {
        "id": "bwnPcZ38drmj"
      }
    },
    {
      "cell_type": "code",
      "source": [
        "import numpy as np\n",
        "from astropy.io import fits\n",
        "import matplotlib.pyplot as plt\n",
        "\n",
        "from CAIROpy import CAIRO\n",
        "\n",
        "#Load data\n",
        "path=\"/content/CAIRO/data/\"\n",
        "filename = \"N5236_cropped_subcube.fits\"\n",
        "hdu = fits.open(path+filename)\n",
        "hdr = hdu[0].header\n",
        "cube = hdu[0].data\n",
        "\n",
        "core = CAIRO(cube, hdr=hdr)\n",
        "\n",
        "filename_parameters = path + \"N5236_cropped_subcube_parameters_run_0.txt\"\n",
        "filename = path + \"N5236_cropped_subcube.fits\"\n",
        "fileout = \"!\" + path + \"N5236_cropped_subcube_gauss_run_0.fits\"\n",
        "filename_noise = path + \"N5236_cropped_subcube_rms.fits\"\n",
        "filename_init_spec = path + \"N5236_input.csv\"\n",
        "filename_lsf = path + \"N5236_lsf.csv\"\n",
        "n_gauss = 6\n",
        "lambda_amp = 1.\n",
        "lambda_mu = 1.\n",
        "lambda_sig = 1.\n",
        "lambda_sig_corr_narrow = 1.\n",
        "lambda_sig_corr_broad = 0.\n",
        "lambda_mu_corr_narrow = 1.\n",
        "lambda_mu_corr_broad = 0.\n",
        "lambda_var_sig = 1.\n",
        "lambda_r = 1.\n",
        "lb_sig = 1.\n",
        "ib_sig = 4.\n",
        "ub_sig = 10.\n",
        "lb_amp = 0.01\n",
        "ub_amp = 0.\n",
        "maxiter = 800\n",
        "iprint = 50\n",
        "descent = \".false.\"\n"
      ],
      "metadata": {
        "id": "AXbK2Y908hXv"
      },
      "execution_count": 28,
      "outputs": []
    },
    {
      "cell_type": "code",
      "source": [
        "os.chdir('/content/CAIRO/data/')\n",
        "core.gen_parameters(filename_parameters=filename_parameters,\n",
        "                    filename=filename,\n",
        "                    fileout=fileout,\n",
        "                    filename_noise=filename_noise,\n",
        "                    filename_init_spec=filename_init_spec,\n",
        "                    filename_lsf=filename_lsf,\n",
        "                    n_gauss=n_gauss,\n",
        "                    lambda_amp=lambda_amp,\n",
        "                    lambda_mu=lambda_mu,\n",
        "                    lambda_sig=lambda_sig,\n",
        "                    lambda_sig_corr_narrow=lambda_sig_corr_narrow,\n",
        "                    lambda_sig_corr_broad=lambda_sig_corr_broad,\n",
        "                    lambda_mu_corr_narrow=lambda_mu_corr_narrow,\n",
        "                    lambda_mu_corr_broad=lambda_mu_corr_broad,\n",
        "                    lambda_var_sig=lambda_var_sig,\n",
        "                    lambda_r=lambda_r,\n",
        "                    lb_sig=lb_sig,\n",
        "                    ib_sig=ib_sig,\n",
        "                    ub_sig=ub_sig,\n",
        "                    lb_amp=lb_amp,\n",
        "                    ub_amp=ub_amp,\n",
        "                    maxiter=maxiter,\n",
        "                    iprint=iprint,\n",
        "                    descent=descent\n",
        "                    )"
      ],
      "metadata": {
        "colab": {
          "base_uri": "https://localhost:8080/"
        },
        "id": "vTwasll2D6KD",
        "outputId": "c0188ad9-617c-4335-c162-9ab7625920fb"
      },
      "execution_count": 29,
      "outputs": [
        {
          "output_type": "stream",
          "name": "stdout",
          "text": [
            "Generate /content/CAIRO/data/N5236_cropped_subcube_parameters_run_0.txt file\n"
          ]
        }
      ]
    },
    {
      "cell_type": "code",
      "source": [
        "os.chdir('/content/CAIRO/data/')\n",
        "!/content/CAIRO/src/gCAIRO /content/CAIRO/data/N5236_cropped_subcube_parameters_run_0.txt"
      ],
      "metadata": {
        "colab": {
          "base_uri": "https://localhost:8080/"
        },
        "id": "5ZXjqA2tuewG",
        "outputId": "7b219349-438f-4dec-b410-a5a8cc15256f"
      },
      "execution_count": 30,
      "outputs": [
        {
          "output_type": "stream",
          "name": "stdout",
          "text": [
            " -------------------------------------------------------------------------\n",
            "11 May 2024   0:53:07.550 AM\n",
            " \n",
            "           ___           ___                       ___           ___      \n",
            "          /  /\\         /  /\\        ___          /  /\\         /  /\\     \n",
            "         /  /:/        /  /::\\      /  /\\        /  /::\\       /  /::\\    \n",
            "        /  /:/        /  /:/\\:\\    /  /:/       /  /:/\\:\\     /  /:/\\:\\   \n",
            "       /  /:/  ___   /  /:/~/::\\  /__/::\\      /  /:/~/:/    /  /:/  \\:\\  \n",
            "      /__/:/  /  /\\ /__/:/ /:/\\:\\ \\__\\/\\:\\__  /__/:/ /:/___ /__/:/ \\__\\:\\ \n",
            "      \\  \\:\\ /  /:/ \\  \\:\\/:/__\\/    \\  \\:\\/\\ \\  \\:\\/:::::/ \\  \\:\\ /  /:/ \n",
            "       \\  \\:\\  /:/   \\  \\::/          \\__\\::/  \\  \\::/~~~~   \\  \\:\\  /:/  \n",
            "        \\  \\:\\/:/     \\  \\:\\          /__/:/    \\  \\:\\        \\  \\:\\/:/   \n",
            "         \\  \\::/       \\  \\:\\         \\__\\/      \\  \\:\\        \\  \\::/    \n",
            "          \\__\\/         \\__\\/                     \\__\\/         \\__\\/     \n",
            " \n",
            "  Version 1.0.0\n",
            "  CAIRO is released as open source code\n",
            " \n",
            " run: ./CAIRO parameters.txt\n",
            " -------------------------------------------------------------------------\n",
            " filename = '/content/CAIRO/data/N5236_cropped_subcube.fits'\n",
            " fileout = '!/content/CAIRO/data/N5236_cropped_subcube_gauss_run_0.fits'\n",
            " timeout = 'timestep.dat'\n",
            "  \n",
            " ______Parameters_____\n",
            " n_gauss =            6\n",
            " lambda_amp =    1.0000000000000000     \n",
            " lambda_mu =    1.0000000000000000     \n",
            " lambda_sig =    1.0000000000000000     \n",
            " lambda_var_sig =    1.0000000000000000     \n",
            " lambda_sig_corr_narrow =    1.0000000000000000     \n",
            " lambda_sig_corr_broad =    0.0000000000000000     \n",
            " lambda_mu_corr_narrow =    1.0000000000000000     \n",
            " lambda_mu_corr_broad =    0.0000000000000000     \n",
            " lambda_r =    1.0000000000000000     \n",
            " lb_sig =    1.0000000000000000     \n",
            " ib_sig =    4.0000000000000000     \n",
            " ub_sig =    10.000000000000000     \n",
            " lb_amp =    1.0000000000000000E-002\n",
            " ub_amp =    0.0000000000000000     \n",
            " maxiter =          800\n",
            "  \n",
            " dim_v, dim_y, dim_x =          350          32          32\n",
            " \n",
            " number of los =         1024\n",
            " nside =            5\n",
            "  \n",
            " Reshape cube, new dimensions :\n",
            " dim_v, dim_y, dim_x =          350          32          32\n",
            "  \n",
            " Compute mean and std spectrum\n",
            "  \n",
            " Calculate Delta between lines\n",
            " Delta Halpha and Hbeta =          225\n",
            " Delta Forbidden lines =          166\n",
            " Delta Forbidden lines =          133\n",
            " Delta Forbidden lines =           18\n",
            "  \n",
            "                     Start iteration\n",
            "  \n",
            "  \n",
            " Start updating last level.\n",
            "  \n",
            "RUNNING THE L-BFGS-B CODE\n",
            "\n",
            "           * * *\n",
            "\n",
            "Machine precision = 2.220D-16\n",
            " N =        18438     M =           10\n",
            " The initial X is infeasible.  Restart with its projection.\n",
            "\n",
            "At X0     11821 variables are exactly at the bounds\n",
            "\n",
            "At iterate    0    f=  2.54402D+04    |proj g|=  6.88228D+01\n",
            "\n",
            "At iterate   50    f=  2.31953D+03    |proj g|=  1.65903D+01\n",
            "\n",
            "At iterate  100    f=  1.81522D+03    |proj g|=  7.35072D+00\n",
            "\n",
            "At iterate  150    f=  1.54956D+03    |proj g|=  5.63786D+00\n",
            "\n",
            "At iterate  200    f=  1.38442D+03    |proj g|=  6.35375D+00\n",
            "\n",
            "At iterate  250    f=  1.28677D+03    |proj g|=  4.89914D+00\n",
            "\n",
            "At iterate  300    f=  1.22312D+03    |proj g|=  4.51236D+00\n",
            "\n",
            "At iterate  350    f=  1.17340D+03    |proj g|=  2.31154D+00\n",
            "\n",
            "At iterate  400    f=  1.14147D+03    |proj g|=  2.48798D+00\n",
            "\n",
            "At iterate  450    f=  1.11716D+03    |proj g|=  1.64354D+00\n",
            "\n",
            "At iterate  500    f=  1.10092D+03    |proj g|=  2.07837D+00\n",
            "\n",
            "At iterate  550    f=  1.08871D+03    |proj g|=  2.12592D+00\n",
            "\n",
            "At iterate  600    f=  1.07947D+03    |proj g|=  2.46656D+00\n",
            "\n",
            "At iterate  650    f=  1.07298D+03    |proj g|=  1.52085D+00\n",
            "\n",
            "At iterate  700    f=  1.06835D+03    |proj g|=  1.76090D+00\n",
            "\n",
            "At iterate  750    f=  1.06356D+03    |proj g|=  1.20980D+00\n",
            "Time = 10.757 seconds.\n",
            "  \n",
            " _____ Write output file _____\n",
            "  \n",
            " ##################################################################\n",
            "11 May 2024   0:53:18.528 AM\n",
            "  Terminate\n",
            "                         CAIRO ALGORITHM\n",
            " \n",
            " ##################################################################\n",
            "Time = 10.777 seconds.\n"
          ]
        }
      ]
    },
    {
      "cell_type": "markdown",
      "source": [
        "#Open result"
      ],
      "metadata": {
        "id": "akKvRgRxd89Q"
      }
    },
    {
      "cell_type": "code",
      "source": [
        "#Open data\n",
        "path = \"/content/CAIRO/data/\"\n",
        "fitsname = \"N5236_cropped_subcube_gauss_run_0.fits\"\n",
        "hdu = fits.open(path+fitsname)\n",
        "params = hdu[0].data\n",
        "\n",
        "dv=1 #FIXME\n",
        "\n",
        "#CAIRO MAPS - Flux (integral), A, MU, and SIG\n",
        "field = params[0::3] * np.abs(params[2::3]) * np.sqrt(2.*np.pi) * dv # integral Gaussians sqrt(2pi) * dv * a * mu\n",
        "ampfield = params[0::3] # in units of the input cube\n",
        "vfield = params[1::3] # pixel position along spectral axis in cube\n",
        "sigfield = np.abs(params[2::3]) * dv # in km/s"
      ],
      "metadata": {
        "id": "dC18DO4Zd-Rg"
      },
      "execution_count": 31,
      "outputs": []
    },
    {
      "cell_type": "code",
      "source": [
        "plt.imshow(vfield[0], cmap=\"coolwarm\")"
      ],
      "metadata": {
        "colab": {
          "base_uri": "https://localhost:8080/",
          "height": 448
        },
        "id": "j-7pcbV4eOut",
        "outputId": "663b22f1-d759-4c61-e3aa-68f947e9f7ac"
      },
      "execution_count": 32,
      "outputs": [
        {
          "output_type": "execute_result",
          "data": {
            "text/plain": [
              "<matplotlib.image.AxesImage at 0x7e29c3103a30>"
            ]
          },
          "metadata": {},
          "execution_count": 32
        },
        {
          "output_type": "display_data",
          "data": {
            "text/plain": [
              "<Figure size 640x480 with 1 Axes>"
            ],
            "image/png": "[encoded data removed]"
          },
          "metadata": {}
        }
      ]
    },
    {
      "cell_type": "code",
      "source": [
        "plt.plot(cube[:,10,16])"
      ],
      "metadata": {
        "id": "BUgCYCedeSQ0",
        "colab": {
          "base_uri": "https://localhost:8080/",
          "height": 448
        },
        "outputId": "c5fe1e6d-4cc9-468b-cdad-b84d3dabd0be"
      },
      "execution_count": 33,
      "outputs": [
        {
          "output_type": "execute_result",
          "data": {
            "text/plain": [
              "[<matplotlib.lines.Line2D at 0x7e29c30752a0>]"
            ]
          },
          "metadata": {},
          "execution_count": 33
        },
        {
          "output_type": "display_data",
          "data": {
            "text/plain": [
              "<Figure size 640x480 with 1 Axes>"
            ],
            "image/png": "[encoded data removed]"
          },
          "metadata": {}
        }
      ]
    },
    {
      "cell_type": "code",
      "source": [],
      "metadata": {
        "id": "8vVfxzYQIGP6"
      },
      "execution_count": null,
      "outputs": []
    }
  ]
}